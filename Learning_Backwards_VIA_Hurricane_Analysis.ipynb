{
  "cells": [
    {
      "cell_type": "markdown",
      "metadata": {
        "id": "view-in-github",
        "colab_type": "text"
      },
      "source": [
        "<a href=\"https://colab.research.google.com/github/Haebii/Haebii/blob/main/Learning_Backwards_VIA_Hurricane_Analysis.ipynb\" target=\"_parent\"><img src=\"https://colab.research.google.com/assets/colab-badge.svg\" alt=\"Open In Colab\"/></a>"
      ]
    },
    {
      "cell_type": "markdown",
      "id": "58875e7a",
      "metadata": {
        "id": "58875e7a"
      },
      "source": [
        "# Hurricane Analysis"
      ]
    },
    {
      "cell_type": "markdown",
      "id": "9a2d9627",
      "metadata": {
        "id": "9a2d9627"
      },
      "source": [
        "#### Overview"
      ]
    },
    {
      "cell_type": "markdown",
      "id": "633e5dde",
      "metadata": {
        "id": "633e5dde"
      },
      "source": [
        "This project is slightly different than others you have encountered thus far. Instead of a step-by-step tutorial, this project contains a series of open-ended requirements which describe the project you'll be building. There are many possible ways to correctly fulfill all of these requirements, and you should expect to use the internet, Codecademy, and other resources when you encounter a problem that you cannot easily solve."
      ]
    },
    {
      "cell_type": "markdown",
      "id": "52f01f07",
      "metadata": {
        "id": "52f01f07"
      },
      "source": [
        "#### Project Goals"
      ]
    },
    {
      "cell_type": "markdown",
      "id": "d9d06c43",
      "metadata": {
        "id": "d9d06c43"
      },
      "source": [
        "You will work to write several functions that organize and manipulate data about Category 5 Hurricanes, the strongest hurricanes as rated by their wind speed. Each one of these functions will use a number of parameters, conditionals, lists, dictionaries, string manipulation, and return statements."
      ]
    },
    {
      "cell_type": "markdown",
      "id": "7fbb9fb5",
      "metadata": {
        "id": "7fbb9fb5"
      },
      "source": [
        "#### Prerequisites"
      ]
    },
    {
      "cell_type": "markdown",
      "id": "4732a1e8",
      "metadata": {
        "id": "4732a1e8"
      },
      "source": [
        "In order to complete this project, you should have completed the Loops and Dictionaries sections of the [Learn Python 3 Course](https://www.codecademy.com/learn/learn-python-3). This content is also covered in the [Data Scientist Career Path](https://www.codecademy.com/learn/paths/data-science/)."
      ]
    },
    {
      "cell_type": "markdown",
      "id": "1e924903",
      "metadata": {
        "id": "1e924903"
      },
      "source": [
        "## Project Requirements"
      ]
    },
    {
      "cell_type": "markdown",
      "id": "35d6f74d",
      "metadata": {
        "id": "35d6f74d"
      },
      "source": [
        "1. Hurricanes, also known as cyclones or typhoons, are one of the most powerful forces of nature on Earth. Due to climate change caused by human activity, the number and intensity of hurricanes has risen, calling for better preparation by the many communities that are devastated by them. As a concerned environmentalist, you want to look at data about the most powerful hurricanes that have occured.\n",
        "\n",
        "   Begin by looking at the `damages` list. The list contains strings representing the total cost in USD(`$`) caused by `34` category 5 hurricanes (wind speeds $\\ge$ 157 mph (252 km/h)) in the Atlantic region. For some of the hurricanes, damage data was not recorded (`\"Damages not recorded\"`), while the rest are written in the format `\"Prefix-B/M\"`, where `B` stands for billions (`1000000000`) and `M` stands for millions (`1000000`).\n",
        "   \n",
        "   Write a function that returns a new list of updated damages where the recorded data is converted to float values and the missing data is retained as `\"Damages not recorded\"`.\n",
        "   \n",
        "   Test your function with the data stored in `damages`."
      ]
    },
    {
      "cell_type": "code",
      "execution_count": 44,
      "id": "d8d3c50b",
      "metadata": {
        "colab": {
          "base_uri": "https://localhost:8080/"
        },
        "id": "d8d3c50b",
        "outputId": "09bc705a-8a34-4f86-a4aa-e86a3677874a"
      },
      "outputs": [
        {
          "output_type": "stream",
          "name": "stdout",
          "text": [
            "['Damages not recorded', 100000000.0, 'Damages not recorded', 40000000.0, 27900000.0, 5000000.0, 'Damages not recorded', 306000000.0, 2000000.0, 65800000.0, 326000000.0, 60300000.0, 208000000.0, 1420000000.0, 25400000.0, 'Damages not recorded', 1540000000.0, 1240000000.0, 7100000000.0, 10000000000.0, 26500000000.0, 6200000000.0, 5370000000.0, 23300000000.0, 1010000000.0, 125000000000.0, 12000000000.0, 29400000000.0, 1760000000.0, 720000000.0, 15100000000.0, 64800000000.0, 91600000000.0, 25100000000.0]\n"
          ]
        }
      ],
      "source": [
        "# damages (USD($)) of hurricanes\n",
        "damages = ['Damages not recorded', '100M', 'Damages not recorded', '40M',\n",
        "          '27.9M', '5M', 'Damages not recorded', '306M', '2M', '65.8M',\n",
        "          '326M', '60.3M', '208M', '1.42B', '25.4M', 'Damages not recorded',\n",
        "          '1.54B', '1.24B', '7.1B', '10B', '26.5B', '6.2B', '5.37B', '23.3B',\n",
        "          '1.01B', '125B', '12B', '29.4B', '1.76B', '720M', '15.1B', '64.8B',\n",
        "          '91.6B', '25.1B']\n",
        "\n",
        "# 1 define the function with :def\n",
        "# 1.1 Describe the function/goal as a var: convert_damages\n",
        "# 1.2 In the argument position, describe data: (damages)\n",
        "def convert_damages(damages):\n",
        "\n",
        "# Add a dictionary with key-value pairs that will provide integer values of M & B\n",
        "#where Key = \"M\"  and Value = 1000000 and Key=\"B\" and Value = 1000000000\n",
        "#make sure to use squiggle parenthesis, a colon, and a comma to separate them\n",
        "  conversion = {\"M\": 1000000,\n",
        "             \"B\": 1000000000}\n",
        "\n",
        "#we'd like a resulting list with updated values. so let's create a variable\n",
        "#to make sure the result is a list, we can provide \"list()\"* < unsure\n",
        "  updated_damages = list()\n",
        "  for damage in damages:\n",
        "    if damage == \"Damages not recorded\":\n",
        "      updated_damages.append(damage)\n",
        "    if damage.find(\"M\") != -1:\n",
        "      updated_damages.append(float(damage[0:damage.find('M')])*conversion[\"M\"])\n",
        "    if damage.find(\"B\") != -1:\n",
        "      updated_damages.append(float(damage[0:damage.find('B')])*conversion[\"B\"])\n",
        "  return updated_damages\n",
        "\n",
        "#for damage (represents each element in the list)\n",
        "#in (creates a boolean expression that allows action based on T/F)\n",
        "#damages: in the list/set we are iterating\n",
        "\n",
        "#if >damage<--the indiv element in the list--equals \"Damages not recorded\" colon\n",
        "#to the list, add, itself  <updated_damages> .append (damage)\n",
        "\n",
        "#if >damage< the individual element in the list\n",
        "# >damage.find(\"M\") if you find any character \"M\"\n",
        "### i don't know why it is != -1 other than something to do with indexing\n",
        "#again, add it to the list with updated_damages.append\n",
        "\n",
        "#v. challenging - i didn't know you could have such a huge expression within append\n",
        "#perhaps this is a 'dictcomprehension' or something like that? it feels a little unfair; like someone with a lot of experience just did the natural thing instead of using what was taught step by step\n",
        "#(not enough intermediate practice)< note on curriculum design/improvement\n",
        "\n",
        "#let's break down the long code:\n",
        "#float() turns everything into a float object (pure number)\n",
        "#float(damage) is each individual element in the list\n",
        "# float(damage *from 0(beg) to ...damage.find('M')])\n",
        "##this for me was the trickiest part - not occuring to me (i'm not flexible yet enough)\n",
        "##to put the end value as damage.find('M')\n",
        "##hard for me to remember the (' ') aspect\n",
        "# then, once you've found the selection, multiply the conversaion from conversion\n",
        "# which one? [\"M\"]\n",
        "# end expression \")\"\"\n",
        "\n",
        "\n",
        "# test function by updating damages\n",
        "updated_damages = convert_damages(damages)\n",
        "print(updated_damages)\n"
      ]
    },
    {
      "cell_type": "markdown",
      "id": "36ac47b6",
      "metadata": {
        "id": "36ac47b6"
      },
      "source": [
        "2. Additional data collected on the `34` strongest Atlantic hurricanes are provided in a series of lists. The data includes:\n",
        "   - `names`: names of the hurricanes\n",
        "   - `months`: months in which the hurricanes occurred\n",
        "   - `years`: years in which the hurricanes occurred\n",
        "   - `max_sustained_winds`: maximum sustained winds (miles per hour) of the hurricanes\n",
        "   - `areas_affected`: list of different areas affected by each of the hurricanes\n",
        "   - `deaths`: total number of deaths caused by each of the hurricanes\n",
        "   \n",
        "   The data is organized such that the data at each index, from `0` to `33`, corresponds to the same hurricane.\n",
        "   \n",
        "   For example, `names[0]` yields the \"Cuba I\" hurricane, which occurred in `months[0]` (October) `years[0]` (1924).\n",
        "   \n",
        "   Write a function that constructs a dictionary made out of the lists, where the keys of the dictionary are the names of the hurricanes, and the values are dictionaries themselves containing a key for each piece of data (`Name`, `Month`, `Year`, `Max Sustained Wind`, `Areas Affected`, `Damage`, `Death`) about the hurricane.\n",
        "   \n",
        "   Thus the key `\"Cuba I\"` would have the value: `{'Name': 'Cuba I', 'Month': 'October', 'Year': 1924, 'Max Sustained Wind': 165, 'Areas Affected': ['Central America', 'Mexico', 'Cuba', 'Florida', 'The Bahamas'], 'Damage': 'Damages not recorded', 'Deaths': 90}`.\n",
        "   \n",
        "   Test your function on the lists of data provided."
      ]
    },
    {
      "cell_type": "code",
      "execution_count": 45,
      "id": "641aa113",
      "metadata": {
        "colab": {
          "base_uri": "https://localhost:8080/"
        },
        "id": "641aa113",
        "outputId": "37461447-536c-4f8a-f9b2-f52719496988"
      },
      "outputs": [
        {
          "output_type": "stream",
          "name": "stdout",
          "text": [
            "{'Cuba I': {'Name': 'Cuba I', 'Month': 'October', 'Year': 1924, 'Max Sustained Wind': 165, 'Areas Affected': ['Central America', 'Mexico', 'Cuba', 'Florida', 'The Bahamas'], 'Damage': 'Damages not recorded', 'Deaths': 90}, 'San Felipe II Okeechobee': {'Name': 'San Felipe II Okeechobee', 'Month': 'September', 'Year': 1928, 'Max Sustained Wind': 160, 'Areas Affected': ['Lesser Antilles', 'The Bahamas', 'United States East Coast', 'Atlantic Canada'], 'Damage': 100000000.0, 'Deaths': 4000}, 'Bahamas': {'Name': 'Bahamas', 'Month': 'September', 'Year': 1932, 'Max Sustained Wind': 160, 'Areas Affected': ['The Bahamas', 'Northeastern United States'], 'Damage': 'Damages not recorded', 'Deaths': 16}, 'Cuba II': {'Name': 'Cuba II', 'Month': 'November', 'Year': 1932, 'Max Sustained Wind': 175, 'Areas Affected': ['Lesser Antilles', 'Jamaica', 'Cayman Islands', 'Cuba', 'The Bahamas', 'Bermuda'], 'Damage': 40000000.0, 'Deaths': 3103}, 'CubaBrownsville': {'Name': 'CubaBrownsville', 'Month': 'August', 'Year': 1933, 'Max Sustained Wind': 160, 'Areas Affected': ['The Bahamas', 'Cuba', 'Florida', 'Texas', 'Tamaulipas'], 'Damage': 27900000.0, 'Deaths': 179}, 'Tampico': {'Name': 'Tampico', 'Month': 'September', 'Year': 1933, 'Max Sustained Wind': 160, 'Areas Affected': ['Jamaica', 'Yucatn Peninsula'], 'Damage': 5000000.0, 'Deaths': 184}, 'Labor Day': {'Name': 'Labor Day', 'Month': 'September', 'Year': 1935, 'Max Sustained Wind': 185, 'Areas Affected': ['The Bahamas', 'Florida', 'Georgia', 'The Carolinas', 'Virginia'], 'Damage': 'Damages not recorded', 'Deaths': 408}, 'New England': {'Name': 'New England', 'Month': 'September', 'Year': 1938, 'Max Sustained Wind': 160, 'Areas Affected': ['Southeastern United States', 'Northeastern United States', 'Southwestern Quebec'], 'Damage': 306000000.0, 'Deaths': 682}, 'Carol': {'Name': 'Carol', 'Month': 'September', 'Year': 1953, 'Max Sustained Wind': 160, 'Areas Affected': ['Bermuda', 'New England', 'Atlantic Canada'], 'Damage': 2000000.0, 'Deaths': 5}, 'Janet': {'Name': 'Janet', 'Month': 'September', 'Year': 1955, 'Max Sustained Wind': 175, 'Areas Affected': ['Lesser Antilles', 'Central America'], 'Damage': 65800000.0, 'Deaths': 1023}, 'Carla': {'Name': 'Carla', 'Month': 'September', 'Year': 1961, 'Max Sustained Wind': 175, 'Areas Affected': ['Texas', 'Louisiana', 'Midwestern United States'], 'Damage': 326000000.0, 'Deaths': 43}, 'Hattie': {'Name': 'Hattie', 'Month': 'October', 'Year': 1961, 'Max Sustained Wind': 160, 'Areas Affected': ['Central America'], 'Damage': 60300000.0, 'Deaths': 319}, 'Beulah': {'Name': 'Beulah', 'Month': 'September', 'Year': 1967, 'Max Sustained Wind': 160, 'Areas Affected': ['The Caribbean', 'Mexico', 'Texas'], 'Damage': 208000000.0, 'Deaths': 688}, 'Camille': {'Name': 'Camille', 'Month': 'August', 'Year': 1969, 'Max Sustained Wind': 175, 'Areas Affected': ['Cuba', 'United States Gulf Coast'], 'Damage': 1420000000.0, 'Deaths': 259}, 'Edith': {'Name': 'Edith', 'Month': 'September', 'Year': 1971, 'Max Sustained Wind': 160, 'Areas Affected': ['The Caribbean', 'Central America', 'Mexico', 'United States Gulf Coast'], 'Damage': 25400000.0, 'Deaths': 37}, 'Anita': {'Name': 'Anita', 'Month': 'September', 'Year': 1977, 'Max Sustained Wind': 175, 'Areas Affected': ['Mexico'], 'Damage': 'Damages not recorded', 'Deaths': 11}, 'David': {'Name': 'David', 'Month': 'August', 'Year': 1979, 'Max Sustained Wind': 175, 'Areas Affected': ['The Caribbean', 'United States East coast'], 'Damage': 1540000000.0, 'Deaths': 2068}, 'Allen': {'Name': 'Allen', 'Month': 'August', 'Year': 1980, 'Max Sustained Wind': 190, 'Areas Affected': ['The Caribbean', 'Yucatn Peninsula', 'Mexico', 'South Texas'], 'Damage': 1240000000.0, 'Deaths': 269}, 'Gilbert': {'Name': 'Gilbert', 'Month': 'September', 'Year': 1988, 'Max Sustained Wind': 185, 'Areas Affected': ['Jamaica', 'Venezuela', 'Central America', 'Hispaniola', 'Mexico'], 'Damage': 7100000000.0, 'Deaths': 318}, 'Hugo': {'Name': 'Hugo', 'Month': 'September', 'Year': 1989, 'Max Sustained Wind': 160, 'Areas Affected': ['The Caribbean', 'United States East Coast'], 'Damage': 10000000000.0, 'Deaths': 107}, 'Andrew': {'Name': 'Andrew', 'Month': 'August', 'Year': 1992, 'Max Sustained Wind': 175, 'Areas Affected': ['The Bahamas', 'Florida', 'United States Gulf Coast'], 'Damage': 26500000000.0, 'Deaths': 65}, 'Mitch': {'Name': 'Mitch', 'Month': 'October', 'Year': 1998, 'Max Sustained Wind': 180, 'Areas Affected': ['Central America', 'Yucatn Peninsula', 'South Florida'], 'Damage': 6200000000.0, 'Deaths': 19325}, 'Isabel': {'Name': 'Isabel', 'Month': 'September', 'Year': 2003, 'Max Sustained Wind': 165, 'Areas Affected': ['Greater Antilles', 'Bahamas', 'Eastern United States', 'Ontario'], 'Damage': 5370000000.0, 'Deaths': 51}, 'Ivan': {'Name': 'Ivan', 'Month': 'September', 'Year': 2004, 'Max Sustained Wind': 165, 'Areas Affected': ['The Caribbean', 'Venezuela', 'United States Gulf Coast'], 'Damage': 23300000000.0, 'Deaths': 124}, 'Emily': {'Name': 'Emily', 'Month': 'July', 'Year': 2005, 'Max Sustained Wind': 160, 'Areas Affected': ['Windward Islands', 'Jamaica', 'Mexico', 'Texas'], 'Damage': 1010000000.0, 'Deaths': 17}, 'Katrina': {'Name': 'Katrina', 'Month': 'August', 'Year': 2005, 'Max Sustained Wind': 175, 'Areas Affected': ['Bahamas', 'United States Gulf Coast'], 'Damage': 125000000000.0, 'Deaths': 1836}, 'Rita': {'Name': 'Rita', 'Month': 'September', 'Year': 2005, 'Max Sustained Wind': 180, 'Areas Affected': ['Cuba', 'United States Gulf Coast'], 'Damage': 12000000000.0, 'Deaths': 125}, 'Wilma': {'Name': 'Wilma', 'Month': 'October', 'Year': 2005, 'Max Sustained Wind': 185, 'Areas Affected': ['Greater Antilles', 'Central America', 'Florida'], 'Damage': 29400000000.0, 'Deaths': 87}, 'Dean': {'Name': 'Dean', 'Month': 'August', 'Year': 2007, 'Max Sustained Wind': 175, 'Areas Affected': ['The Caribbean', 'Central America'], 'Damage': 1760000000.0, 'Deaths': 45}, 'Felix': {'Name': 'Felix', 'Month': 'September', 'Year': 2007, 'Max Sustained Wind': 175, 'Areas Affected': ['Nicaragua', 'Honduras'], 'Damage': 720000000.0, 'Deaths': 133}, 'Matthew': {'Name': 'Matthew', 'Month': 'October', 'Year': 2016, 'Max Sustained Wind': 165, 'Areas Affected': ['Antilles', 'Venezuela', 'Colombia', 'United States East Coast', 'Atlantic Canada'], 'Damage': 15100000000.0, 'Deaths': 603}, 'Irma': {'Name': 'Irma', 'Month': 'September', 'Year': 2017, 'Max Sustained Wind': 180, 'Areas Affected': ['Cape Verde', 'The Caribbean', 'British Virgin Islands', 'U.S. Virgin Islands', 'Cuba', 'Florida'], 'Damage': 64800000000.0, 'Deaths': 138}, 'Maria': {'Name': 'Maria', 'Month': 'September', 'Year': 2017, 'Max Sustained Wind': 175, 'Areas Affected': ['Lesser Antilles', 'Virgin Islands', 'Puerto Rico', 'Dominican Republic', 'Turks and Caicos Islands'], 'Damage': 91600000000.0, 'Deaths': 3057}, 'Michael': {'Name': 'Michael', 'Month': 'October', 'Year': 2018, 'Max Sustained Wind': 160, 'Areas Affected': ['Central America', 'United States Gulf Coast (especially Florida Panhandle)'], 'Damage': 25100000000.0, 'Deaths': 74}}\n"
          ]
        }
      ],
      "source": [
        "# names of hurricanes\n",
        "names = ['Cuba I', 'San Felipe II Okeechobee', 'Bahamas', 'Cuba II', 'CubaBrownsville', 'Tampico', 'Labor Day', 'New England', 'Carol', 'Janet', 'Carla', 'Hattie', 'Beulah', 'Camille', 'Edith', 'Anita', 'David', 'Allen', 'Gilbert', 'Hugo', 'Andrew', 'Mitch', 'Isabel', 'Ivan', 'Emily', 'Katrina', 'Rita', 'Wilma', 'Dean', 'Felix', 'Matthew', 'Irma', 'Maria', 'Michael']\n",
        "\n",
        "# months of hurricanes\n",
        "months = ['October', 'September', 'September', 'November', 'August', 'September', 'September', 'September', 'September', 'September', 'September', 'October', 'September', 'August', 'September', 'September', 'August', 'August', 'September', 'September', 'August', 'October', 'September', 'September', 'July', 'August', 'September', 'October', 'August', 'September', 'October', 'September', 'September', 'October']\n",
        "\n",
        "# years of hurricanes\n",
        "years = [1924, 1928, 1932, 1932, 1933, 1933, 1935, 1938, 1953, 1955, 1961, 1961, 1967, 1969, 1971, 1977, 1979, 1980, 1988, 1989, 1992, 1998, 2003, 2004, 2005, 2005, 2005, 2005, 2007, 2007, 2016, 2017, 2017, 2018]\n",
        "\n",
        "# maximum sustained winds (mph) of hurricanes\n",
        "max_sustained_winds = [165, 160, 160, 175, 160, 160, 185, 160, 160, 175, 175, 160, 160, 175, 160, 175, 175, 190, 185, 160, 175, 180, 165, 165, 160, 175, 180, 185, 175, 175, 165, 180, 175, 160]\n",
        "\n",
        "# areas affected by each hurricane\n",
        "areas_affected = [['Central America', 'Mexico', 'Cuba', 'Florida', 'The Bahamas'], ['Lesser Antilles', 'The Bahamas', 'United States East Coast', 'Atlantic Canada'], ['The Bahamas', 'Northeastern United States'], ['Lesser Antilles', 'Jamaica', 'Cayman Islands', 'Cuba', 'The Bahamas', 'Bermuda'], ['The Bahamas', 'Cuba', 'Florida', 'Texas', 'Tamaulipas'], ['Jamaica', 'Yucatn Peninsula'], ['The Bahamas', 'Florida', 'Georgia', 'The Carolinas', 'Virginia'], ['Southeastern United States', 'Northeastern United States', 'Southwestern Quebec'], ['Bermuda', 'New England', 'Atlantic Canada'], ['Lesser Antilles', 'Central America'], ['Texas', 'Louisiana', 'Midwestern United States'], ['Central America'], ['The Caribbean', 'Mexico', 'Texas'], ['Cuba', 'United States Gulf Coast'], ['The Caribbean', 'Central America', 'Mexico', 'United States Gulf Coast'], ['Mexico'], ['The Caribbean', 'United States East coast'], ['The Caribbean', 'Yucatn Peninsula', 'Mexico', 'South Texas'], ['Jamaica', 'Venezuela', 'Central America', 'Hispaniola', 'Mexico'], ['The Caribbean', 'United States East Coast'], ['The Bahamas', 'Florida', 'United States Gulf Coast'], ['Central America', 'Yucatn Peninsula', 'South Florida'], ['Greater Antilles', 'Bahamas', 'Eastern United States', 'Ontario'], ['The Caribbean', 'Venezuela', 'United States Gulf Coast'], ['Windward Islands', 'Jamaica', 'Mexico', 'Texas'], ['Bahamas', 'United States Gulf Coast'], ['Cuba', 'United States Gulf Coast'], ['Greater Antilles', 'Central America', 'Florida'], ['The Caribbean', 'Central America'], ['Nicaragua', 'Honduras'], ['Antilles', 'Venezuela', 'Colombia', 'United States East Coast', 'Atlantic Canada'], ['Cape Verde', 'The Caribbean', 'British Virgin Islands', 'U.S. Virgin Islands', 'Cuba', 'Florida'], ['Lesser Antilles', 'Virgin Islands', 'Puerto Rico', 'Dominican Republic', 'Turks and Caicos Islands'], ['Central America', 'United States Gulf Coast (especially Florida Panhandle)']]\n",
        "\n",
        "# damages (USD($)) of hurricanes\n",
        "damages = ['Damages not recorded', '100M', 'Damages not recorded', '40M', '27.9M', '5M', 'Damages not recorded', '306M', '2M', '65.8M', '326M', '60.3M', '208M', '1.42B', '25.4M', 'Damages not recorded', '1.54B', '1.24B', '7.1B', '10B', '26.5B', '6.2B', '5.37B', '23.3B', '1.01B', '125B', '12B', '29.4B', '1.76B', '720M', '15.1B', '64.8B', '91.6B', '25.1B']\n",
        "\n",
        "# deaths for each hurricane\n",
        "deaths = [90,4000,16,3103,179,184,408,682,5,1023,43,319,688,259,37,11,2068,269,318,107,65,19325,51,124,17,1836,125,87,45,133,603,138,3057,74]\n",
        "\n",
        "# 2\n",
        "# define function\n",
        "def create_dictionary(names, months, years, max_sustained_winds, areas_affected, updated_damages, deaths):\n",
        "    \"\"\"Create dictionary of hurricanes with hurricane name as the key and a dictionary of hurricane data as the value.\"\"\"\n",
        "    hurricanes = dict()\n",
        "    num_hurricanes = len(names)\n",
        "    for i in range(num_hurricanes):\n",
        "        hurricanes[names[i]] = {\"Name\": names[i],\n",
        "                              \"Month\": months[i],\n",
        "                              \"Year\": years[i],\n",
        "                              \"Max Sustained Wind\": max_sustained_winds[i],\n",
        "                              \"Areas Affected\": areas_affected[i],\n",
        "                              \"Damage\": updated_damages[i],\n",
        "                              \"Deaths\": deaths[i]}\n",
        "    return hurricanes\n",
        "\n",
        "# create hurricanes dictionary\n",
        "hurricanes = create_dictionary(names, months, years, max_sustained_winds, areas_affected, updated_damages, deaths)\n",
        "print(hurricanes)"
      ]
    },
    {
      "cell_type": "markdown",
      "source": [
        "Good effort. For 15 minutes, I tried to copy the previous function for practice. I didn't understand why I couldn't create a double function for the same goal: create a dictionary, but with a different key. The takeaway however, was that my obstacle amounts to the fact that int objects are not iterable (int being the year of hurricanes and the key had to be the year).\n",
        "I would have liked to apply what I learned and create a functional solution instead of viewing a solution that isn't aligned well to my lessons.\n",
        "\n",
        "Even though I'm not skilled yet enough to think of a simpler, alternative solution (I would have liked to swap out name for year in a briefer, more elegant manner), I think it was a really worthy effort to discover that integers are not iterable and to have more typing syntax practice, which I definitely need.\n",
        "Working with functions as a whole instead of pieces is also very educational because I'm not at a skill level where I have methods and syntax mastery to where I can swap one in or out and play around. It's too new still.\n",
        "But, I'm glad that I'm finally understanding the relationship of the variable that goes after the \"for\" in a loop\n",
        "Conceptually I get it, but in application it's tough because while the concept is explained clearly, the syntax and form and conditions are not. So the learner is left to think for themselves when and how to write it, which is a large burden to offshore to the learner.\n"
      ],
      "metadata": {
        "id": "bS68kbSCoqLH"
      },
      "id": "bS68kbSCoqLH"
    },
    {
      "cell_type": "code",
      "source": [
        "#OG_dict= zip(names, months, years, max_sustained_winds, areas_affected, damages, deaths)\n",
        "#OG_dict = list(OG_dict)\n",
        "#def dictionary_sort_by_year(names, months, years, max_sustained_winds, areas_affected, damages, deaths):\n",
        "  #num_canes = len(list(years))\n",
        "  #canes = dict()\n",
        "  #for i in num_canes:\n",
        "    #canes[years[i]] = {\"Name\": names[i],\n",
        "                            #\"Month\":months[i],\n",
        "                            #\"Year\": years[i],\n",
        "                            #Max Sustained Winds\": max_sustained_winds[i],\n",
        "                            #\"Areas Affected\": areas_affected[i],\n",
        "                            #\"Damages\": damages[i],\n",
        "                            #\"Deaths\": deaths[i],}\n",
        "  #return canes\n",
        "#canes = dictionary_sort_by_year(names, months, years, max_sustained_winds, areas_affected, damages, deaths)\n",
        "#print(canes)"
      ],
      "metadata": {
        "id": "nGbZBwTblHk5"
      },
      "id": "nGbZBwTblHk5",
      "execution_count": 46,
      "outputs": []
    },
    {
      "cell_type": "markdown",
      "id": "6d0a1933",
      "metadata": {
        "id": "6d0a1933"
      },
      "source": [
        "3. In addition to organizing the hurricanes in a dictionary with names as the key, you want to be able to organize the hurricanes by year.\n",
        "\n",
        "   Write a function that converts the current dictionary of hurricanes to a new dictionary, where the keys are years and the values are lists containing a dictionary for each hurricane that occurred in that year.\n",
        "   \n",
        "   For example, the key `1932` would yield the value: `[{'Name': 'Bahamas', 'Month': 'September', 'Year': 1932, 'Max Sustained Wind': 160, 'Areas Affected': ['The Bahamas', 'Northeastern United States'], 'Damage': 'Damage not recorded', 'Deaths': 16}, {'Name': 'Cuba II', 'Month': 'November', 'Year': 1932, 'Max Sustained Wind': 175, 'Areas Affected': ['Lesser Antilles', 'Jamaica', 'Cayman Islands', 'Cuba', 'The Bahamas', 'Bermuda'], 'Damage': 40000000.0, 'Deaths': 3103}]`.\n",
        "   \n",
        "   Test your function on your hurricane dictionary."
      ]
    },
    {
      "cell_type": "code",
      "execution_count": 47,
      "id": "1ef2edea",
      "metadata": {
        "colab": {
          "base_uri": "https://localhost:8080/"
        },
        "id": "1ef2edea",
        "outputId": "77867839-cd89-46bd-8fbe-e0cb959429c3"
      },
      "outputs": [
        {
          "output_type": "stream",
          "name": "stdout",
          "text": [
            "[{'Name': 'Bahamas', 'Month': 'September', 'Year': 1932, 'Max Sustained Wind': 160, 'Areas Affected': ['The Bahamas', 'Northeastern United States'], 'Damage': 'Damages not recorded', 'Deaths': 16}, {'Name': 'Cuba II', 'Month': 'November', 'Year': 1932, 'Max Sustained Wind': 175, 'Areas Affected': ['Lesser Antilles', 'Jamaica', 'Cayman Islands', 'Cuba', 'The Bahamas', 'Bermuda'], 'Damage': 40000000.0, 'Deaths': 3103}]\n"
          ]
        }
      ],
      "source": [
        "# 3 Convert dictionary with hurricane name as key to a new dictionary with hurricane year as the key\n",
        "#and return new dictionary.\n",
        "\n",
        "\n",
        "def convertkey_name_to_year(hurricanes):\n",
        "  dict_of_hurricanes_by_year = dict()\n",
        "\n",
        "  for huracan in hurricanes:\n",
        "    year_key= hurricanes[huracan]['Year']\n",
        "#hurricanes is a dictionary. huracan is the hurricane the loop is on.\n",
        "# The loop retrieves the value associated with\n",
        "#the hurricane (huracan)it's on (in its iteration) in the hurricanes dictionary.\n",
        "#The result is a dictionary containing information about that particular hurricane.\n",
        "    all_info = hurricanes[huracan]\n",
        "    if year_key not in dict_of_hurricanes_by_year:\n",
        "      dict_of_hurricanes_by_year[year_key] = [all_info]\n",
        "    else:\n",
        "      dict_of_hurricanes_by_year[year_key].append(all_info)\n",
        "  return dict_of_hurricanes_by_year\n",
        "\n",
        "dict_of_hurricanes_by_year = convertkey_name_to_year(hurricanes)\n",
        "print(dict_of_hurricanes_by_year[1932])\n"
      ]
    },
    {
      "cell_type": "markdown",
      "id": "66973f77",
      "metadata": {
        "id": "66973f77"
      },
      "source": [
        "4. You believe that knowing how often each of the areas of the Atlantic are affected by these strong hurricanes is important for making preparations for future hurricanes.\n",
        "\n",
        "   Write a function that counts how often each area is listed as an affected area of a hurricane. Store and return the results in a dictionary where the keys are the affected areas and the values are counts of how many times the areas were affected.\n",
        "   \n",
        "   Test your function on your hurricane dictionary."
      ]
    },
    {
      "cell_type": "code",
      "execution_count": 48,
      "id": "bff86f77",
      "metadata": {
        "colab": {
          "base_uri": "https://localhost:8080/"
        },
        "id": "bff86f77",
        "outputId": "2cc68f22-9326-496d-dc21-3e867bc767ea"
      },
      "outputs": [
        {
          "output_type": "stream",
          "name": "stdout",
          "text": [
            "{'Central America': 9, 'Mexico': 7, 'Cuba': 6, 'Florida': 6, 'The Bahamas': 7, 'Lesser Antilles': 4, 'United States East Coast': 3, 'Atlantic Canada': 3, 'Northeastern United States': 2, 'Jamaica': 4, 'Cayman Islands': 1, 'Bermuda': 2, 'Texas': 4, 'Tamaulipas': 1, 'Yucatn Peninsula': 3, 'Georgia': 1, 'The Carolinas': 1, 'Virginia': 1, 'Southeastern United States': 1, 'Southwestern Quebec': 1, 'New England': 1, 'Louisiana': 1, 'Midwestern United States': 1, 'The Caribbean': 8, 'United States Gulf Coast': 6, 'United States East coast': 1, 'South Texas': 1, 'Venezuela': 3, 'Hispaniola': 1, 'South Florida': 1, 'Greater Antilles': 2, 'Bahamas': 2, 'Eastern United States': 1, 'Ontario': 1, 'Windward Islands': 1, 'Nicaragua': 1, 'Honduras': 1, 'Antilles': 1, 'Colombia': 1, 'Cape Verde': 1, 'British Virgin Islands': 1, 'U.S. Virgin Islands': 1, 'Virgin Islands': 1, 'Puerto Rico': 1, 'Dominican Republic': 1, 'Turks and Caicos Islands': 1, 'United States Gulf Coast (especially Florida Panhandle)': 1}\n"
          ]
        }
      ],
      "source": [
        "# 4\n",
        "def count_affected_areas(hurricanes):\n",
        "  areas_affected_count = dict() #good job claudi, nice and simple\n",
        "  for huracan in hurricanes:\n",
        "        for area in hurricanes[huracan]['Areas Affected']:\n",
        "            if area not in areas_affected_count:\n",
        "                areas_affected_count[area] = 1\n",
        "            else:\n",
        "                areas_affected_count[area] += 1\n",
        "  return areas_affected_count\n",
        "\n",
        "# Counting Damaged Areas\n",
        "\n",
        "# create dictionary of areas to store the number of hurricanes involved in\n",
        "affected_areas_count = count_affected_areas(hurricanes)\n",
        "print(affected_areas_count)"
      ]
    },
    {
      "cell_type": "markdown",
      "id": "e015eeb3",
      "metadata": {
        "id": "e015eeb3"
      },
      "source": [
        "5. Write a function that finds the area affected by the most hurricanes, and how often it was hit.\n",
        "\n",
        "   Test your function on your affected area dictionary."
      ]
    },
    {
      "cell_type": "code",
      "execution_count": 49,
      "id": "643c73f9",
      "metadata": {
        "colab": {
          "base_uri": "https://localhost:8080/"
        },
        "id": "643c73f9",
        "outputId": "d195d599-b7cd-470f-9f4f-ec63ca72cb95"
      },
      "outputs": [
        {
          "output_type": "stream",
          "name": "stdout",
          "text": [
            "Central America 9\n"
          ]
        }
      ],
      "source": [
        "# 5\n",
        "# Calculating Maximum Hurricane Count\n",
        "def most_affected_area(affected_areas_count):\n",
        "  #area_with_most_hits\n",
        "  awmh= ''\n",
        "  #area_with_most_hits_record\n",
        "  awmhr= 0\n",
        "  for area in affected_areas_count:\n",
        "    if affected_areas_count[area] > awmhr:\n",
        "      awmh = area\n",
        "      awmhr = affected_areas_count[area]\n",
        "    return awmh, awmhr\n",
        "# find most frequently affected area and the number of hurricanes involved in\n",
        "\n",
        "awmh, awmhr = most_affected_area(affected_areas_count)\n",
        "print(awmh, awmhr)\n",
        "\n",
        "#i had an error saying that it oculdn't print between integers and strings\n",
        "## i fixed it because i noticed awmh instead of awmhr < the latter being a count\n",
        "##go me :)"
      ]
    },
    {
      "cell_type": "markdown",
      "id": "4c120f59",
      "metadata": {
        "id": "4c120f59"
      },
      "source": [
        "6. Write a function that finds the hurricane that caused the greatest number of deaths, and how many deaths it caused.\n",
        "\n",
        "   Test your function on your hurricane dictionary."
      ]
    },
    {
      "cell_type": "code",
      "execution_count": 50,
      "id": "ced02448",
      "metadata": {
        "colab": {
          "base_uri": "https://localhost:8080/"
        },
        "id": "ced02448",
        "outputId": "bd74a219-4f82-41c1-bb54-8d47cf9d009c"
      },
      "outputs": [
        {
          "output_type": "stream",
          "name": "stdout",
          "text": [
            "Mitch 19325\n"
          ]
        }
      ],
      "source": [
        "# 6\n",
        "# Calculating the Deadliest Hurricane\n",
        "def find_top_deaths(hurricanes):\n",
        "  deadliest_hurricane = ''\n",
        "  top_death_count = 0\n",
        "  for huracan in hurricanes:\n",
        "    if hurricanes[huracan][\"Deaths\"] > top_death_count:\n",
        "      deadliest_hurricane = huracan\n",
        "      top_death_count = hurricanes[huracan][\"Deaths\"]\n",
        "  return deadliest_hurricane, top_death_count\n",
        "deadliest_hurricane, top_death_count = find_top_deaths(hurricanes)\n",
        "print(deadliest_hurricane, top_death_count )\n",
        "# find highest mortality hurricane and the number of deaths\n"
      ]
    },
    {
      "cell_type": "markdown",
      "id": "9ddd39b0",
      "metadata": {
        "id": "9ddd39b0"
      },
      "source": [
        "7. Just as hurricanes are rated by their windspeed, you want to try rating hurricanes based on other metrics.\n",
        "\n",
        "   Write a function that rates hurricanes on a mortality scale according to the following ratings, where the key is the rating and the value is the upper bound of deaths for that rating.\n",
        "   \n",
        "   ```py\n",
        "   mortality_scale = {0: 0,\n",
        "   1: 100,\n",
        "   2: 500,\n",
        "   3: 1000,\n",
        "   4: 10000}\n",
        "   ```\n",
        "   \n",
        "   For example, a hurricane with a `1` mortality rating would have resulted in greater than `0` but less than or equal to `100` deaths. A hurricane with a `5` mortality would have resulted in greater than `10000` deaths.\n",
        "   \n",
        "   Store the hurricanes in a new dictionary where the keys are the mortaility ratings and the values are lists containing a dictionary for each hurricane that falls into that mortality rating.\n",
        "   \n",
        "   Test your function on your hurricane dictionary."
      ]
    },
    {
      "cell_type": "code",
      "execution_count": 57,
      "id": "9eea4dc7",
      "metadata": {
        "colab": {
          "base_uri": "https://localhost:8080/"
        },
        "id": "9eea4dc7",
        "outputId": "b133e7bb-452c-4163-8389-eb71e06f5989"
      },
      "outputs": [
        {
          "output_type": "stream",
          "name": "stdout",
          "text": [
            "[{'Name': 'Mitch', 'Month': 'October', 'Year': 1998, 'Max Sustained Wind': 180, 'Areas Affected': ['Central America', 'Yucatn Peninsula', 'South Florida'], 'Damage': 6200000000.0, 'Deaths': 19325}]\n"
          ]
        }
      ],
      "source": [
        "# 7\n",
        "# Rating Hurricanes by Mortality\n",
        "def hurricanes_by_mortality(hurricanes):\n",
        "  mortality_scale = {0: 0,\n",
        "                    1: 100,\n",
        "                    2: 500,\n",
        "                    3: 1000,\n",
        "                    4: 10000}\n",
        " #dictionary_of_hurricanes_by_mortality = dhm\n",
        "  dhm = {0:[], 1:[], 2:[], 3:[], 4:[], 5:[]}\n",
        "  for huracan in hurricanes:\n",
        "    num_deaths = hurricanes[huracan]['Deaths'] # i like this here\n",
        "    if num_deaths == mortality_scale[0]:\n",
        "      dhm[0].append(hurricanes[huracan])\n",
        "    elif num_deaths > mortality_scale[0] and num_deaths <= mortality_scale[1]: #if the number is more than 0 but less than 100\n",
        "      dhm[1].append(hurricanes[huracan])\n",
        "    elif num_deaths > mortality_scale[1] and num_deaths <= mortality_scale[2]:\n",
        "      dhm[2].append(hurricanes[huracan])\n",
        "    elif num_deaths > mortality_scale[2] and num_deaths <= mortality_scale[3]:\n",
        "      dhm[3].append(hurricanes[huracan])\n",
        "    elif num_deaths > mortality_scale[3] and num_deaths <= mortality_scale[4]:\n",
        "      dhm[4].append(hurricanes[huracan])\n",
        "    elif num_deaths > mortality_scale[4]:\n",
        "      dhm[5].append(hurricanes[huracan])\n",
        "  return dhm\n",
        "\n",
        "dictionary_of_hurricanes_by_mortality = hurricanes_by_mortality(hurricanes)\n",
        "print(dictionary_of_hurricanes_by_mortality[5])\n",
        "\n",
        "\n",
        "#silly me, my code was fine, i forgot to print \"[5]\"\"\n"
      ]
    },
    {
      "cell_type": "markdown",
      "id": "199b0e1c",
      "metadata": {
        "id": "199b0e1c"
      },
      "source": [
        "8. Write a function that finds the hurricane that caused the greatest damage, and how costly it was.\n",
        "\n",
        "   Test your function on your hurricane dictionary."
      ]
    },
    {
      "cell_type": "code",
      "execution_count": 58,
      "id": "b3dc79b4",
      "metadata": {
        "id": "b3dc79b4"
      },
      "outputs": [],
      "source": [
        "# 8 just one of each and not a list since we are not buidling a dictionary\n",
        "def calculate_damage(hurricanes):\n",
        "  highest_damage = ' '\n",
        "  damage_count = 0\n",
        "  for huracan in hurricanes:\n",
        "    if hurricanes[huracan]['Damage'] == \"Damages not recorded\":\n",
        "      pass #didn't learn this\n",
        "    if hurricanes[hurcan]['Damage'] > damage_count:\n",
        "      highest_damage = huracan\n",
        "      damage_count = hurricanes[huracan]['Damage']\n",
        "    return highest_damage, damage_count\n",
        "# Calculating Hurricane Maximum Damage\n",
        "\n",
        "# find highest damage inducing hurricane and its total cost\n"
      ]
    },
    {
      "cell_type": "markdown",
      "id": "58d22ddc",
      "metadata": {
        "id": "58d22ddc"
      },
      "source": [
        "9. Lastly, you want to rate hurricanes according to how much damage they cause.\n",
        "\n",
        "   Write a function that rates hurricanes on a damage scale according to the following ratings, where the key is the rating and the value is the upper bound of damage for that rating.\n",
        "   ```py\n",
        "   damage_scale = {0: 0,\n",
        "   1: 100000000,\n",
        "   2: 1000000000,\n",
        "   3: 10000000000,\n",
        "   4: 50000000000}\n",
        "   ```\n",
        "   \n",
        "   For example, a hurricane with a `1` damage rating would have resulted in damages greater than `0` USD but less than or equal to `100000000` USD. A hurricane with a `5` damage rating would have resulted in damages greater than `50000000000` USD (talk about a lot of money).\n",
        "   \n",
        "   Store the hurricanes in a new dictionary where the keys are damage ratings and the values are lists containing a dictionary for each hurricane that falls into that damage rating.\n",
        "   \n",
        "   Test your function on your hurricane dictionary."
      ]
    },
    {
      "cell_type": "code",
      "execution_count": 83,
      "id": "e543f487",
      "metadata": {
        "colab": {
          "base_uri": "https://localhost:8080/"
        },
        "id": "e543f487",
        "outputId": "f65a8451-1a46-49d8-9e7f-7aa71dc80d87"
      },
      "outputs": [
        {
          "output_type": "stream",
          "name": "stdout",
          "text": [
            "[{'Name': 'Katrina', 'Month': 'August', 'Year': 2005, 'Max Sustained Wind': 175, 'Areas Affected': ['Bahamas', 'United States Gulf Coast'], 'Damage': 125000000000.0, 'Deaths': 1836}, {'Name': 'Irma', 'Month': 'September', 'Year': 2017, 'Max Sustained Wind': 180, 'Areas Affected': ['Cape Verde', 'The Caribbean', 'British Virgin Islands', 'U.S. Virgin Islands', 'Cuba', 'Florida'], 'Damage': 64800000000.0, 'Deaths': 138}, {'Name': 'Maria', 'Month': 'September', 'Year': 2017, 'Max Sustained Wind': 175, 'Areas Affected': ['Lesser Antilles', 'Virgin Islands', 'Puerto Rico', 'Dominican Republic', 'Turks and Caicos Islands'], 'Damage': 91600000000.0, 'Deaths': 3057}]\n"
          ]
        }
      ],
      "source": [
        "# 9 I did this one mostly on my own!\n",
        "#I checked when I wasn't sure about \"damages not recorded\"\n",
        "#Also, fixed a bunch of little errors about list/integer >> I had written Damages not Recorded instead of recorded\n",
        "# it said something about dictobjects cant be appended, bc i put [0] after append instead of the dictionary\n",
        "def rate_hurricane_by_damage(hurricanes):\n",
        "  damage_scale = {0: 0,\n",
        "                  1: 100000000,\n",
        "                  2: 1000000000,\n",
        "                  3: 10000000000,\n",
        "                  4: 50000000000}\n",
        "  #damage_level_dictionary = dld\n",
        "  dld = {0:[], 1:[], 2:[], 3:[], 4:[], 5:[]}\n",
        "  for huracan in hurricanes:\n",
        "    damage_level = hurricanes[huracan][\"Damage\"]\n",
        "    if damage_level == 'Damages not recorded':\n",
        "      dld[0].append(hurricanes[huracan])\n",
        "    elif damage_level == damage_scale[0]:\n",
        "      dld[0].append(hurricanes[huracan])\n",
        "    elif damage_level > damage_scale[0] and damage_level <= damage_scale[1]:\n",
        "      dld[1].append(hurricanes[huracan])\n",
        "    elif damage_level > damage_scale[1] and damage_level <= damage_scale[2]:\n",
        "      dld[2].append(hurricanes[huracan])\n",
        "    elif damage_level > damage_scale[2] and damage_level <= damage_scale[3]:\n",
        "      dld[3].append(hurricanes[huracan])\n",
        "    elif damage_level > damage_scale[3] and damage_level <= damage_scale[4]:\n",
        "      dld[4].append(hurricanes[huracan])\n",
        "    elif damage_level > damage_scale[4]:\n",
        "      dld[5].append(hurricanes[huracan])\n",
        "  return dld\n",
        "\n",
        "hurricanes_by_damage_level = rate_hurricane_by_damage(hurricanes)\n",
        "print(hurricanes_by_damage_level[5])\n",
        "\n",
        "# categorize hurricanes in new dictionary with damage severity as key\n"
      ]
    },
    {
      "cell_type": "markdown",
      "id": "928c5fd2",
      "metadata": {
        "id": "928c5fd2"
      },
      "source": [
        "## Solution"
      ]
    },
    {
      "cell_type": "markdown",
      "id": "252616a3",
      "metadata": {
        "id": "252616a3"
      },
      "source": [
        "Great work! View the **Hurricane Analysis_Solution.ipynb** file or visit [our forums](https://discuss.codecademy.com/t/hurricane-analysis-challenge-project-python/462363) to compare your project to our sample solution code. You can also learn how to host your own solution on GitHub so you can share it with other learners! Your solution might look different than ours, and that's okay! There are multiple ways to solve these projects, and you'll learn more by seeing others' code."
      ]
    },
    {
      "cell_type": "code",
      "execution_count": null,
      "id": "da8f7141",
      "metadata": {
        "id": "da8f7141"
      },
      "outputs": [],
      "source": []
    }
  ],
  "metadata": {
    "kernelspec": {
      "display_name": "Python 3.10.8 64-bit (microsoft store)",
      "language": "python",
      "name": "python3"
    },
    "language_info": {
      "codemirror_mode": {
        "name": "ipython",
        "version": 3
      },
      "file_extension": ".py",
      "mimetype": "text/x-python",
      "name": "python",
      "nbconvert_exporter": "python",
      "pygments_lexer": "ipython3",
      "version": "3.10.8"
    },
    "vscode": {
      "interpreter": {
        "hash": "b784193cf0f9970b27f3c12f21dbff8ed97e3cf923dc23fe210654173bc3fdd0"
      }
    },
    "colab": {
      "provenance": [],
      "collapsed_sections": [
        "9a2d9627",
        "52f01f07",
        "7fbb9fb5"
      ],
      "include_colab_link": true
    }
  },
  "nbformat": 4,
  "nbformat_minor": 5
}